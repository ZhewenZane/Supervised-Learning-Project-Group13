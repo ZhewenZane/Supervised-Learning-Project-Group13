{
 "cells": [
  {
   "cell_type": "markdown",
   "metadata": {},
   "source": [
    "## COVID-19 World Vaccination Progress"
   ]
  },
  {
   "cell_type": "code",
   "execution_count": 3,
   "metadata": {},
   "outputs": [
    {
     "name": "stderr",
     "output_type": "stream",
     "text": [
      "/Library/Frameworks/Python.framework/Versions/3.9/lib/python3.9/site-packages/setuptools/distutils_patch.py:25: UserWarning: Distutils was imported before Setuptools. This usage is discouraged and may exhibit undesirable behaviors or errors. Please use Setuptools' objects directly or at least import Setuptools first.\n",
      "  warnings.warn(\n"
     ]
    }
   ],
   "source": [
    "import pandas as pd\n",
    "import numpy as np\n",
    "import matplotlib.pyplot as plt\n",
    "import seaborn as sns\n",
    "import plotly.express as px\n",
    "import itertools\n",
    "import math"
   ]
  },
  {
   "cell_type": "code",
   "execution_count": 4,
   "metadata": {},
   "outputs": [],
   "source": [
    "import pycaret.regression as caret\n",
    "from pycaret.time_series import *\n",
    "from sklearn.model_selection import TimeSeriesSplit\n",
    "from sklearn.linear_model import LinearRegression, Ridge, Lasso\n",
    "from sklearn.ensemble import RandomForestRegressor\n",
    "from sklearn.svm import SVR\n",
    "from sklearn.metrics import r2_score,mean_absolute_error,mean_squared_error\n",
    "from statsmodels.tsa.arima.model import ARIMA\n",
    "import statsmodels "
   ]
  },
  {
   "cell_type": "code",
   "execution_count": null,
   "metadata": {},
   "outputs": [],
   "source": [
    "from fbprophet import Prophet\n",
    "from fbprophet.diagnostics import cross_validation\n",
    "from fbprophet.diagnostics import performance_metrics\n",
    "from fbprophet.plot import plot_cross_validation_metric\n",
    "import itertools\n",
    "from matplotlib import pyplot as plt\n",
    "import seaborn as sns\n",
    "sns.set()\n",
    "import statsmodels.api as sm\n",
    "import scipy.stats as stats\n",
    "from sklearn.metrics import r2_score\n",
    "import warnings\n",
    "from typing import List\n",
    "\n",
    "from fbprophet import Prophet\n",
    "from fbprophet.diagnostics import cross_validation\n",
    "from fbprophet.diagnostics import performance_metrics\n",
    "from fbprophet.plot import plot_cross_validation_metric\n",
    "import itertools"
   ]
  },
  {
   "cell_type": "code",
   "execution_count": 5,
   "metadata": {},
   "outputs": [],
   "source": [
    "from typing import List\n",
    "import warnings\n",
    "import datetime\n",
    "from datetime import date , datetime , timedelta\n",
    "from statsmodels.tsa.stattools import adfuller\n",
    "from numpy import log"
   ]
  },
  {
   "cell_type": "markdown",
   "metadata": {},
   "source": [
    "### EDA"
   ]
  },
  {
   "cell_type": "code",
   "execution_count": 89,
   "metadata": {},
   "outputs": [
    {
     "data": {
      "text/html": [
       "<div>\n",
       "<style scoped>\n",
       "    .dataframe tbody tr th:only-of-type {\n",
       "        vertical-align: middle;\n",
       "    }\n",
       "\n",
       "    .dataframe tbody tr th {\n",
       "        vertical-align: top;\n",
       "    }\n",
       "\n",
       "    .dataframe thead th {\n",
       "        text-align: right;\n",
       "    }\n",
       "</style>\n",
       "<table border=\"1\" class=\"dataframe\">\n",
       "  <thead>\n",
       "    <tr style=\"text-align: right;\">\n",
       "      <th></th>\n",
       "      <th>country</th>\n",
       "      <th>iso_code</th>\n",
       "      <th>date</th>\n",
       "      <th>total_vaccinations</th>\n",
       "      <th>people_vaccinated</th>\n",
       "      <th>people_fully_vaccinated</th>\n",
       "      <th>daily_vaccinations_raw</th>\n",
       "      <th>daily_vaccinations</th>\n",
       "      <th>total_vaccinations_per_hundred</th>\n",
       "      <th>people_vaccinated_per_hundred</th>\n",
       "      <th>people_fully_vaccinated_per_hundred</th>\n",
       "      <th>daily_vaccinations_per_million</th>\n",
       "      <th>vaccines</th>\n",
       "      <th>source_name</th>\n",
       "      <th>source_website</th>\n",
       "    </tr>\n",
       "  </thead>\n",
       "  <tbody>\n",
       "    <tr>\n",
       "      <th>0</th>\n",
       "      <td>Afghanistan</td>\n",
       "      <td>AFG</td>\n",
       "      <td>2021-02-22</td>\n",
       "      <td>0.0</td>\n",
       "      <td>0.0</td>\n",
       "      <td>NaN</td>\n",
       "      <td>NaN</td>\n",
       "      <td>NaN</td>\n",
       "      <td>0.0</td>\n",
       "      <td>0.0</td>\n",
       "      <td>NaN</td>\n",
       "      <td>NaN</td>\n",
       "      <td>Johnson&amp;Johnson, Oxford/AstraZeneca, Pfizer/Bi...</td>\n",
       "      <td>World Health Organization</td>\n",
       "      <td>https://covid19.who.int/</td>\n",
       "    </tr>\n",
       "    <tr>\n",
       "      <th>1</th>\n",
       "      <td>Afghanistan</td>\n",
       "      <td>AFG</td>\n",
       "      <td>2021-02-23</td>\n",
       "      <td>NaN</td>\n",
       "      <td>NaN</td>\n",
       "      <td>NaN</td>\n",
       "      <td>NaN</td>\n",
       "      <td>1367.0</td>\n",
       "      <td>NaN</td>\n",
       "      <td>NaN</td>\n",
       "      <td>NaN</td>\n",
       "      <td>34.0</td>\n",
       "      <td>Johnson&amp;Johnson, Oxford/AstraZeneca, Pfizer/Bi...</td>\n",
       "      <td>World Health Organization</td>\n",
       "      <td>https://covid19.who.int/</td>\n",
       "    </tr>\n",
       "    <tr>\n",
       "      <th>2</th>\n",
       "      <td>Afghanistan</td>\n",
       "      <td>AFG</td>\n",
       "      <td>2021-02-24</td>\n",
       "      <td>NaN</td>\n",
       "      <td>NaN</td>\n",
       "      <td>NaN</td>\n",
       "      <td>NaN</td>\n",
       "      <td>1367.0</td>\n",
       "      <td>NaN</td>\n",
       "      <td>NaN</td>\n",
       "      <td>NaN</td>\n",
       "      <td>34.0</td>\n",
       "      <td>Johnson&amp;Johnson, Oxford/AstraZeneca, Pfizer/Bi...</td>\n",
       "      <td>World Health Organization</td>\n",
       "      <td>https://covid19.who.int/</td>\n",
       "    </tr>\n",
       "    <tr>\n",
       "      <th>3</th>\n",
       "      <td>Afghanistan</td>\n",
       "      <td>AFG</td>\n",
       "      <td>2021-02-25</td>\n",
       "      <td>NaN</td>\n",
       "      <td>NaN</td>\n",
       "      <td>NaN</td>\n",
       "      <td>NaN</td>\n",
       "      <td>1367.0</td>\n",
       "      <td>NaN</td>\n",
       "      <td>NaN</td>\n",
       "      <td>NaN</td>\n",
       "      <td>34.0</td>\n",
       "      <td>Johnson&amp;Johnson, Oxford/AstraZeneca, Pfizer/Bi...</td>\n",
       "      <td>World Health Organization</td>\n",
       "      <td>https://covid19.who.int/</td>\n",
       "    </tr>\n",
       "    <tr>\n",
       "      <th>4</th>\n",
       "      <td>Afghanistan</td>\n",
       "      <td>AFG</td>\n",
       "      <td>2021-02-26</td>\n",
       "      <td>NaN</td>\n",
       "      <td>NaN</td>\n",
       "      <td>NaN</td>\n",
       "      <td>NaN</td>\n",
       "      <td>1367.0</td>\n",
       "      <td>NaN</td>\n",
       "      <td>NaN</td>\n",
       "      <td>NaN</td>\n",
       "      <td>34.0</td>\n",
       "      <td>Johnson&amp;Johnson, Oxford/AstraZeneca, Pfizer/Bi...</td>\n",
       "      <td>World Health Organization</td>\n",
       "      <td>https://covid19.who.int/</td>\n",
       "    </tr>\n",
       "  </tbody>\n",
       "</table>\n",
       "</div>"
      ],
      "text/plain": [
       "       country iso_code        date  total_vaccinations  people_vaccinated  \\\n",
       "0  Afghanistan      AFG  2021-02-22                 0.0                0.0   \n",
       "1  Afghanistan      AFG  2021-02-23                 NaN                NaN   \n",
       "2  Afghanistan      AFG  2021-02-24                 NaN                NaN   \n",
       "3  Afghanistan      AFG  2021-02-25                 NaN                NaN   \n",
       "4  Afghanistan      AFG  2021-02-26                 NaN                NaN   \n",
       "\n",
       "   people_fully_vaccinated  daily_vaccinations_raw  daily_vaccinations  \\\n",
       "0                      NaN                     NaN                 NaN   \n",
       "1                      NaN                     NaN              1367.0   \n",
       "2                      NaN                     NaN              1367.0   \n",
       "3                      NaN                     NaN              1367.0   \n",
       "4                      NaN                     NaN              1367.0   \n",
       "\n",
       "   total_vaccinations_per_hundred  people_vaccinated_per_hundred  \\\n",
       "0                             0.0                            0.0   \n",
       "1                             NaN                            NaN   \n",
       "2                             NaN                            NaN   \n",
       "3                             NaN                            NaN   \n",
       "4                             NaN                            NaN   \n",
       "\n",
       "   people_fully_vaccinated_per_hundred  daily_vaccinations_per_million  \\\n",
       "0                                  NaN                             NaN   \n",
       "1                                  NaN                            34.0   \n",
       "2                                  NaN                            34.0   \n",
       "3                                  NaN                            34.0   \n",
       "4                                  NaN                            34.0   \n",
       "\n",
       "                                            vaccines  \\\n",
       "0  Johnson&Johnson, Oxford/AstraZeneca, Pfizer/Bi...   \n",
       "1  Johnson&Johnson, Oxford/AstraZeneca, Pfizer/Bi...   \n",
       "2  Johnson&Johnson, Oxford/AstraZeneca, Pfizer/Bi...   \n",
       "3  Johnson&Johnson, Oxford/AstraZeneca, Pfizer/Bi...   \n",
       "4  Johnson&Johnson, Oxford/AstraZeneca, Pfizer/Bi...   \n",
       "\n",
       "                 source_name            source_website  \n",
       "0  World Health Organization  https://covid19.who.int/  \n",
       "1  World Health Organization  https://covid19.who.int/  \n",
       "2  World Health Organization  https://covid19.who.int/  \n",
       "3  World Health Organization  https://covid19.who.int/  \n",
       "4  World Health Organization  https://covid19.who.int/  "
      ]
     },
     "execution_count": 89,
     "metadata": {},
     "output_type": "execute_result"
    }
   ],
   "source": [
    "df = pd.read_csv(\"/Users/luomingni/Desktop/MS/first term/5220_SML/Project/archive/country_vaccinations copy.csv\")\n",
    "df.head()"
   ]
  },
  {
   "cell_type": "code",
   "execution_count": 90,
   "metadata": {},
   "outputs": [
    {
     "data": {
      "text/plain": [
       "(53595, 15)"
      ]
     },
     "execution_count": 90,
     "metadata": {},
     "output_type": "execute_result"
    }
   ],
   "source": [
    "df.shape"
   ]
  },
  {
   "cell_type": "code",
   "execution_count": 91,
   "metadata": {},
   "outputs": [
    {
     "data": {
      "text/plain": [
       "<bound method DataFrame.info of            country iso_code        date  total_vaccinations  \\\n",
       "0      Afghanistan      AFG  2021-02-22                 0.0   \n",
       "1      Afghanistan      AFG  2021-02-23                 NaN   \n",
       "2      Afghanistan      AFG  2021-02-24                 NaN   \n",
       "3      Afghanistan      AFG  2021-02-25                 NaN   \n",
       "4      Afghanistan      AFG  2021-02-26                 NaN   \n",
       "...            ...      ...         ...                 ...   \n",
       "53590     Zimbabwe      ZWE  2021-10-22           5814790.0   \n",
       "53591     Zimbabwe      ZWE  2021-10-23           5826876.0   \n",
       "53592     Zimbabwe      ZWE  2021-10-24           5836363.0   \n",
       "53593     Zimbabwe      ZWE  2021-10-25           5848934.0   \n",
       "53594     Zimbabwe      ZWE  2021-10-26           5866629.0   \n",
       "\n",
       "       people_vaccinated  people_fully_vaccinated  daily_vaccinations_raw  \\\n",
       "0                    0.0                      NaN                     NaN   \n",
       "1                    NaN                      NaN                     NaN   \n",
       "2                    NaN                      NaN                     NaN   \n",
       "3                    NaN                      NaN                     NaN   \n",
       "4                    NaN                      NaN                     NaN   \n",
       "...                  ...                      ...                     ...   \n",
       "53590          3271638.0                2543152.0                 17507.0   \n",
       "53591          3276746.0                2550130.0                 12086.0   \n",
       "53592          3281618.0                2554745.0                  9487.0   \n",
       "53593          3287996.0                2560938.0                 12571.0   \n",
       "53594          3294687.0                2571942.0                 17695.0   \n",
       "\n",
       "       daily_vaccinations  total_vaccinations_per_hundred  \\\n",
       "0                     NaN                            0.00   \n",
       "1                  1367.0                             NaN   \n",
       "2                  1367.0                             NaN   \n",
       "3                  1367.0                             NaN   \n",
       "4                  1367.0                             NaN   \n",
       "...                   ...                             ...   \n",
       "53590             20007.0                           38.53   \n",
       "53591             19845.0                           38.61   \n",
       "53592             19241.0                           38.67   \n",
       "53593             15135.0                           38.75   \n",
       "53594             15697.0                           38.87   \n",
       "\n",
       "       people_vaccinated_per_hundred  people_fully_vaccinated_per_hundred  \\\n",
       "0                               0.00                                  NaN   \n",
       "1                                NaN                                  NaN   \n",
       "2                                NaN                                  NaN   \n",
       "3                                NaN                                  NaN   \n",
       "4                                NaN                                  NaN   \n",
       "...                              ...                                  ...   \n",
       "53590                          21.68                                16.85   \n",
       "53591                          21.71                                16.90   \n",
       "53592                          21.74                                16.93   \n",
       "53593                          21.79                                16.97   \n",
       "53594                          21.83                                17.04   \n",
       "\n",
       "       daily_vaccinations_per_million  \\\n",
       "0                                 NaN   \n",
       "1                                34.0   \n",
       "2                                34.0   \n",
       "3                                34.0   \n",
       "4                                34.0   \n",
       "...                               ...   \n",
       "53590                          1326.0   \n",
       "53591                          1315.0   \n",
       "53592                          1275.0   \n",
       "53593                          1003.0   \n",
       "53594                          1040.0   \n",
       "\n",
       "                                                vaccines  \\\n",
       "0      Johnson&Johnson, Oxford/AstraZeneca, Pfizer/Bi...   \n",
       "1      Johnson&Johnson, Oxford/AstraZeneca, Pfizer/Bi...   \n",
       "2      Johnson&Johnson, Oxford/AstraZeneca, Pfizer/Bi...   \n",
       "3      Johnson&Johnson, Oxford/AstraZeneca, Pfizer/Bi...   \n",
       "4      Johnson&Johnson, Oxford/AstraZeneca, Pfizer/Bi...   \n",
       "...                                                  ...   \n",
       "53590  Oxford/AstraZeneca, Sinopharm/Beijing, Sinovac...   \n",
       "53591  Oxford/AstraZeneca, Sinopharm/Beijing, Sinovac...   \n",
       "53592  Oxford/AstraZeneca, Sinopharm/Beijing, Sinovac...   \n",
       "53593  Oxford/AstraZeneca, Sinopharm/Beijing, Sinovac...   \n",
       "53594  Oxford/AstraZeneca, Sinopharm/Beijing, Sinovac...   \n",
       "\n",
       "                     source_name  \\\n",
       "0      World Health Organization   \n",
       "1      World Health Organization   \n",
       "2      World Health Organization   \n",
       "3      World Health Organization   \n",
       "4      World Health Organization   \n",
       "...                          ...   \n",
       "53590         Ministry of Health   \n",
       "53591         Ministry of Health   \n",
       "53592         Ministry of Health   \n",
       "53593         Ministry of Health   \n",
       "53594         Ministry of Health   \n",
       "\n",
       "                                          source_website  \n",
       "0                               https://covid19.who.int/  \n",
       "1                               https://covid19.who.int/  \n",
       "2                               https://covid19.who.int/  \n",
       "3                               https://covid19.who.int/  \n",
       "4                               https://covid19.who.int/  \n",
       "...                                                  ...  \n",
       "53590  https://www.arcgis.com/home/webmap/viewer.html...  \n",
       "53591  https://www.arcgis.com/home/webmap/viewer.html...  \n",
       "53592  https://www.arcgis.com/home/webmap/viewer.html...  \n",
       "53593  https://www.arcgis.com/home/webmap/viewer.html...  \n",
       "53594  https://www.arcgis.com/home/webmap/viewer.html...  \n",
       "\n",
       "[53595 rows x 15 columns]>"
      ]
     },
     "execution_count": 91,
     "metadata": {},
     "output_type": "execute_result"
    }
   ],
   "source": [
    "df.info"
   ]
  },
  {
   "cell_type": "code",
   "execution_count": null,
   "metadata": {},
   "outputs": [],
   "source": [
    "countries = df.country.unique()\n",
    "\n",
    "for country in countries:\n",
    "    print(country,end = \":\\n\")\n",
    "    print(df[df.country == country]['vaccines'].unique()[0] , end = \"\\n\"+\"_\"*20+\"\\n\\n\")"
   ]
  },
  {
   "cell_type": "code",
   "execution_count": 96,
   "metadata": {},
   "outputs": [],
   "source": [
    "dict_vac_percentages = {}\n",
    "iso_list = df.iso_code.unique()\n",
    "for iso_code in iso_list:\n",
    "    dict_vac_percentages[iso_code]=df[df.iso_code==iso_code]['people_fully_vaccinated_per_hundred'].max()\n",
    "\n",
    "df_vac_percentages = pd.DataFrame()\n",
    "df_vac_percentages['iso_code'] = dict_vac_percentages.keys()\n",
    "df_vac_percentages['fully vaccinated percentage'] = dict_vac_percentages.values()\n",
    "df_vac_percentages['country'] = countries"
   ]
  },
  {
   "cell_type": "code",
   "execution_count": 97,
   "metadata": {},
   "outputs": [
    {
     "data": {
      "application/vnd.plotly.v1+json": {
       "config": {
        "plotlyServerURL": "https://plot.ly"
       },
       "data": [
        {
         "coloraxis": "coloraxis",
         "geo": "geo",
         "hovertemplate": "<b>%{hovertext}</b><br><br>iso_code=%{location}<br>fully vaccinated percentage=%{z}<extra></extra>",
         "hovertext": [
          "Afghanistan",
          "Albania",
          "Algeria",
          "Andorra",
          "Angola",
          "Anguilla",
          "Antigua and Barbuda",
          "Argentina",
          "Armenia",
          "Aruba",
          "Australia",
          "Austria",
          "Azerbaijan",
          "Bahamas",
          "Bahrain",
          "Bangladesh",
          "Barbados",
          "Belarus",
          "Belgium",
          "Belize",
          "Benin",
          "Bermuda",
          "Bhutan",
          "Bolivia",
          "Bonaire Sint Eustatius and Saba",
          "Bosnia and Herzegovina",
          "Botswana",
          "Brazil",
          "British Virgin Islands",
          "Brunei",
          "Bulgaria",
          "Burkina Faso",
          "Burundi",
          "Cambodia",
          "Cameroon",
          "Canada",
          "Cape Verde",
          "Cayman Islands",
          "Central African Republic",
          "Chad",
          "Chile",
          "China",
          "Colombia",
          "Comoros",
          "Congo",
          "Cook Islands",
          "Costa Rica",
          "Cote d'Ivoire",
          "Croatia",
          "Cuba",
          "Curacao",
          "Cyprus",
          "Czechia",
          "Democratic Republic of Congo",
          "Denmark",
          "Djibouti",
          "Dominica",
          "Dominican Republic",
          "Ecuador",
          "Egypt",
          "El Salvador",
          "England",
          "Equatorial Guinea",
          "Estonia",
          "Eswatini",
          "Ethiopia",
          "Faeroe Islands",
          "Falkland Islands",
          "Fiji",
          "Finland",
          "France",
          "French Polynesia",
          "Gabon",
          "Gambia",
          "Georgia",
          "Germany",
          "Ghana",
          "Gibraltar",
          "Greece",
          "Greenland",
          "Grenada",
          "Guatemala",
          "Guernsey",
          "Guinea",
          "Guinea-Bissau",
          "Guyana",
          "Haiti",
          "Honduras",
          "Hong Kong",
          "Hungary",
          "Iceland",
          "India",
          "Indonesia",
          "Iran",
          "Iraq",
          "Ireland",
          "Isle of Man",
          "Israel",
          "Italy",
          "Jamaica",
          "Japan",
          "Jersey",
          "Jordan",
          "Kazakhstan",
          "Kenya",
          "Kiribati",
          "Kosovo",
          "Kuwait",
          "Kyrgyzstan",
          "Laos",
          "Latvia",
          "Lebanon",
          "Lesotho",
          "Liberia",
          "Libya",
          "Liechtenstein",
          "Lithuania",
          "Luxembourg",
          "Macao",
          "Madagascar",
          "Malawi",
          "Malaysia",
          "Maldives",
          "Mali",
          "Malta",
          "Mauritania",
          "Mauritius",
          "Mexico",
          "Moldova",
          "Monaco",
          "Mongolia",
          "Montenegro",
          "Montserrat",
          "Morocco",
          "Mozambique",
          "Myanmar",
          "Namibia",
          "Nauru",
          "Nepal",
          "Netherlands",
          "New Caledonia",
          "New Zealand",
          "Nicaragua",
          "Niger",
          "Nigeria",
          "Niue",
          "North Macedonia",
          "Northern Cyprus",
          "Northern Ireland",
          "Norway",
          "Oman",
          "Pakistan",
          "Palestine",
          "Panama",
          "Papua New Guinea",
          "Paraguay",
          "Peru",
          "Philippines",
          "Pitcairn",
          "Poland",
          "Portugal",
          "Qatar",
          "Romania",
          "Russia",
          "Rwanda",
          "Saint Helena",
          "Saint Kitts and Nevis",
          "Saint Lucia",
          "Saint Vincent and the Grenadines",
          "Samoa",
          "San Marino",
          "Sao Tome and Principe",
          "Saudi Arabia",
          "Scotland",
          "Senegal",
          "Serbia",
          "Seychelles",
          "Sierra Leone",
          "Singapore",
          "Sint Maarten (Dutch part)",
          "Slovakia",
          "Slovenia",
          "Solomon Islands",
          "Somalia",
          "South Africa",
          "South Korea",
          "South Sudan",
          "Spain",
          "Sri Lanka",
          "Sudan",
          "Suriname",
          "Sweden",
          "Switzerland",
          "Syria",
          "Taiwan",
          "Tajikistan",
          "Tanzania",
          "Thailand",
          "Timor",
          "Togo",
          "Tokelau",
          "Tonga",
          "Trinidad and Tobago",
          "Tunisia",
          "Turkey",
          "Turkmenistan",
          "Turks and Caicos Islands",
          "Tuvalu",
          "Uganda",
          "Ukraine",
          "United Arab Emirates",
          "United Kingdom",
          "United States",
          "Uruguay",
          "Uzbekistan",
          "Vanuatu",
          "Venezuela",
          "Vietnam",
          "Wales",
          "Wallis and Futuna",
          "Yemen",
          "Zambia",
          "Zimbabwe"
         ],
         "locations": [
          "AFG",
          "ALB",
          "DZA",
          "AND",
          "AGO",
          "AIA",
          "ATG",
          "ARG",
          "ARM",
          "ABW",
          "AUS",
          "AUT",
          "AZE",
          "BHS",
          "BHR",
          "BGD",
          "BRB",
          "BLR",
          "BEL",
          "BLZ",
          "BEN",
          "BMU",
          "BTN",
          "BOL",
          "BES",
          "BIH",
          "BWA",
          "BRA",
          "VGB",
          "BRN",
          "BGR",
          "BFA",
          "BDI",
          "KHM",
          "CMR",
          "CAN",
          "CPV",
          "CYM",
          "CAF",
          "TCD",
          "CHL",
          "CHN",
          "COL",
          "COM",
          "COG",
          "COK",
          "CRI",
          "CIV",
          "HRV",
          "CUB",
          "CUW",
          "CYP",
          "CZE",
          "COD",
          "DNK",
          "DJI",
          "DMA",
          "DOM",
          "ECU",
          "EGY",
          "SLV",
          "OWID_ENG",
          "GNQ",
          "EST",
          "SWZ",
          "ETH",
          "FRO",
          "FLK",
          "FJI",
          "FIN",
          "FRA",
          "PYF",
          "GAB",
          "GMB",
          "GEO",
          "DEU",
          "GHA",
          "GIB",
          "GRC",
          "GRL",
          "GRD",
          "GTM",
          "GGY",
          "GIN",
          "GNB",
          "GUY",
          "HTI",
          "HND",
          "HKG",
          "HUN",
          "ISL",
          "IND",
          "IDN",
          "IRN",
          "IRQ",
          "IRL",
          "IMN",
          "ISR",
          "ITA",
          "JAM",
          "JPN",
          "JEY",
          "JOR",
          "KAZ",
          "KEN",
          "KIR",
          "OWID_KOS",
          "KWT",
          "KGZ",
          "LAO",
          "LVA",
          "LBN",
          "LSO",
          "LBR",
          "LBY",
          "LIE",
          "LTU",
          "LUX",
          "MAC",
          "MDG",
          "MWI",
          "MYS",
          "MDV",
          "MLI",
          "MLT",
          "MRT",
          "MUS",
          "MEX",
          "MDA",
          "MCO",
          "MNG",
          "MNE",
          "MSR",
          "MAR",
          "MOZ",
          "MMR",
          "NAM",
          "NRU",
          "NPL",
          "NLD",
          "NCL",
          "NZL",
          "NIC",
          "NER",
          "NGA",
          "NIU",
          "MKD",
          "OWID_CYN",
          "OWID_NIR",
          "NOR",
          "OMN",
          "PAK",
          "PSE",
          "PAN",
          "PNG",
          "PRY",
          "PER",
          "PHL",
          "PCN",
          "POL",
          "PRT",
          "QAT",
          "ROU",
          "RUS",
          "RWA",
          "SHN",
          "KNA",
          "LCA",
          "VCT",
          "WSM",
          "SMR",
          "STP",
          "SAU",
          "OWID_SCT",
          "SEN",
          "SRB",
          "SYC",
          "SLE",
          "SGP",
          "SXM",
          "SVK",
          "SVN",
          "SLB",
          "SOM",
          "ZAF",
          "KOR",
          "SSD",
          "ESP",
          "LKA",
          "SDN",
          "SUR",
          "SWE",
          "CHE",
          "SYR",
          "TWN",
          "TJK",
          "TZA",
          "THA",
          "TLS",
          "TGO",
          "TKL",
          "TON",
          "TTO",
          "TUN",
          "TUR",
          "TKM",
          "TCA",
          "TUV",
          "UGA",
          "UKR",
          "ARE",
          "GBR",
          "USA",
          "URY",
          "UZB",
          "VUT",
          "VEN",
          "VNM",
          "OWID_WLS",
          "WLF",
          "YEM",
          "ZMB",
          "ZWE"
         ],
         "name": "",
         "type": "choropleth",
         "z": [
          1.08,
          30.48,
          10.65,
          61.69,
          4.73,
          60.54,
          49.43,
          55.8,
          7.08,
          71.42,
          61.63,
          61.78,
          42.43,
          28.88,
          65.14,
          12.38,
          42.34,
          19.73,
          73.4,
          35.69,
          1.5,
          70.44,
          66.36,
          31.99,
          63.29,
          15.57,
          11.01,
          54.3,
          51.81,
          55.22,
          21.26,
          1.29,
          null,
          76.77,
          0.57,
          73.82,
          35.81,
          80.73,
          5.8,
          0.26,
          76.14,
          73.92,
          40.16,
          18.24,
          2.12,
          63.69,
          49.18,
          3.11,
          43.55,
          62.12,
          55.76,
          63.42,
          56.56,
          0.04,
          75.79,
          2.6,
          32.67,
          48.11,
          56.41,
          8,
          57.36,
          67.56,
          12.78,
          56.78,
          19.8,
          0.92,
          76.47,
          50.31,
          59.99,
          68.52,
          67.71,
          52.09,
          4.03,
          8.19,
          22.79,
          65.69,
          2.6,
          118.14,
          61.24,
          64.98,
          26.8,
          17.3,
          20.31,
          5.25,
          0.52,
          30.11,
          0.25,
          27.47,
          58.28,
          59.42,
          81.04,
          22.23,
          25.01,
          35.45,
          8.14,
          75.11,
          75.33,
          65.08,
          71.01,
          12.22,
          70.45,
          73.67,
          33.99,
          38.75,
          2.7,
          9.27,
          39.84,
          21.33,
          10.97,
          36.57,
          52.72,
          22.12,
          15.72,
          4.82,
          5.33,
          63.32,
          61.08,
          62.94,
          52.13,
          0.65,
          2.75,
          73.35,
          65.26,
          1.23,
          82.93,
          12.33,
          65.5,
          41.34,
          21.31,
          58.98,
          64.23,
          38.21,
          28.29,
          57.44,
          5.68,
          8.35,
          8.99,
          66.69,
          21.86,
          68.31,
          52.17,
          62.11,
          5.41,
          1.29,
          1.36,
          71.25,
          36.94,
          67.65,
          65.4,
          68.17,
          50.06,
          17.45,
          22.52,
          53.89,
          1.17,
          30.46,
          45.15,
          23.58,
          100,
          52.51,
          87.16,
          75.7,
          31.23,
          32.83,
          13.28,
          57.93,
          44.92,
          20.62,
          14.28,
          39.27,
          65.33,
          12.48,
          60.27,
          71.3,
          5.11,
          43.19,
          77.03,
          1.36,
          79.69,
          55.71,
          42.06,
          53.54,
          4.41,
          1.74,
          19.48,
          71.55,
          0.37,
          79.69,
          61.41,
          1.3,
          33.25,
          67.57,
          62.69,
          2.23,
          29.08,
          21.61,
          1.44,
          41.05,
          24.96,
          4.95,
          70.76,
          31.34,
          42,
          36.84,
          56.82,
          52.41,
          66.57,
          39.01,
          0.88,
          16.42,
          86.12,
          66.83,
          56.73,
          75.08,
          17.33,
          9.72,
          21.57,
          22.23,
          70.69,
          49.25,
          0.16,
          2.7,
          17.04
         ]
        }
       ],
       "layout": {
        "coloraxis": {
         "colorbar": {
          "title": {
           "text": "fully vaccinated percentage"
          }
         },
         "colorscale": [
          [
           0,
           "rgb(255,255,229)"
          ],
          [
           0.125,
           "rgb(247,252,185)"
          ],
          [
           0.25,
           "rgb(217,240,163)"
          ],
          [
           0.375,
           "rgb(173,221,142)"
          ],
          [
           0.5,
           "rgb(120,198,121)"
          ],
          [
           0.625,
           "rgb(65,171,93)"
          ],
          [
           0.75,
           "rgb(35,132,67)"
          ],
          [
           0.875,
           "rgb(0,104,55)"
          ],
          [
           1,
           "rgb(0,69,41)"
          ]
         ]
        },
        "geo": {
         "center": {},
         "domain": {
          "x": [
           0,
           1
          ],
          "y": [
           0,
           1
          ]
         }
        },
        "legend": {
         "tracegroupgap": 0
        },
        "margin": {
         "t": 60
        },
        "template": {
         "data": {
          "bar": [
           {
            "error_x": {
             "color": "#2a3f5f"
            },
            "error_y": {
             "color": "#2a3f5f"
            },
            "marker": {
             "line": {
              "color": "#E5ECF6",
              "width": 0.5
             },
             "pattern": {
              "fillmode": "overlay",
              "size": 10,
              "solidity": 0.2
             }
            },
            "type": "bar"
           }
          ],
          "barpolar": [
           {
            "marker": {
             "line": {
              "color": "#E5ECF6",
              "width": 0.5
             },
             "pattern": {
              "fillmode": "overlay",
              "size": 10,
              "solidity": 0.2
             }
            },
            "type": "barpolar"
           }
          ],
          "carpet": [
           {
            "aaxis": {
             "endlinecolor": "#2a3f5f",
             "gridcolor": "white",
             "linecolor": "white",
             "minorgridcolor": "white",
             "startlinecolor": "#2a3f5f"
            },
            "baxis": {
             "endlinecolor": "#2a3f5f",
             "gridcolor": "white",
             "linecolor": "white",
             "minorgridcolor": "white",
             "startlinecolor": "#2a3f5f"
            },
            "type": "carpet"
           }
          ],
          "choropleth": [
           {
            "colorbar": {
             "outlinewidth": 0,
             "ticks": ""
            },
            "type": "choropleth"
           }
          ],
          "contour": [
           {
            "colorbar": {
             "outlinewidth": 0,
             "ticks": ""
            },
            "colorscale": [
             [
              0,
              "#0d0887"
             ],
             [
              0.1111111111111111,
              "#46039f"
             ],
             [
              0.2222222222222222,
              "#7201a8"
             ],
             [
              0.3333333333333333,
              "#9c179e"
             ],
             [
              0.4444444444444444,
              "#bd3786"
             ],
             [
              0.5555555555555556,
              "#d8576b"
             ],
             [
              0.6666666666666666,
              "#ed7953"
             ],
             [
              0.7777777777777778,
              "#fb9f3a"
             ],
             [
              0.8888888888888888,
              "#fdca26"
             ],
             [
              1,
              "#f0f921"
             ]
            ],
            "type": "contour"
           }
          ],
          "contourcarpet": [
           {
            "colorbar": {
             "outlinewidth": 0,
             "ticks": ""
            },
            "type": "contourcarpet"
           }
          ],
          "heatmap": [
           {
            "colorbar": {
             "outlinewidth": 0,
             "ticks": ""
            },
            "colorscale": [
             [
              0,
              "#0d0887"
             ],
             [
              0.1111111111111111,
              "#46039f"
             ],
             [
              0.2222222222222222,
              "#7201a8"
             ],
             [
              0.3333333333333333,
              "#9c179e"
             ],
             [
              0.4444444444444444,
              "#bd3786"
             ],
             [
              0.5555555555555556,
              "#d8576b"
             ],
             [
              0.6666666666666666,
              "#ed7953"
             ],
             [
              0.7777777777777778,
              "#fb9f3a"
             ],
             [
              0.8888888888888888,
              "#fdca26"
             ],
             [
              1,
              "#f0f921"
             ]
            ],
            "type": "heatmap"
           }
          ],
          "heatmapgl": [
           {
            "colorbar": {
             "outlinewidth": 0,
             "ticks": ""
            },
            "colorscale": [
             [
              0,
              "#0d0887"
             ],
             [
              0.1111111111111111,
              "#46039f"
             ],
             [
              0.2222222222222222,
              "#7201a8"
             ],
             [
              0.3333333333333333,
              "#9c179e"
             ],
             [
              0.4444444444444444,
              "#bd3786"
             ],
             [
              0.5555555555555556,
              "#d8576b"
             ],
             [
              0.6666666666666666,
              "#ed7953"
             ],
             [
              0.7777777777777778,
              "#fb9f3a"
             ],
             [
              0.8888888888888888,
              "#fdca26"
             ],
             [
              1,
              "#f0f921"
             ]
            ],
            "type": "heatmapgl"
           }
          ],
          "histogram": [
           {
            "marker": {
             "pattern": {
              "fillmode": "overlay",
              "size": 10,
              "solidity": 0.2
             }
            },
            "type": "histogram"
           }
          ],
          "histogram2d": [
           {
            "colorbar": {
             "outlinewidth": 0,
             "ticks": ""
            },
            "colorscale": [
             [
              0,
              "#0d0887"
             ],
             [
              0.1111111111111111,
              "#46039f"
             ],
             [
              0.2222222222222222,
              "#7201a8"
             ],
             [
              0.3333333333333333,
              "#9c179e"
             ],
             [
              0.4444444444444444,
              "#bd3786"
             ],
             [
              0.5555555555555556,
              "#d8576b"
             ],
             [
              0.6666666666666666,
              "#ed7953"
             ],
             [
              0.7777777777777778,
              "#fb9f3a"
             ],
             [
              0.8888888888888888,
              "#fdca26"
             ],
             [
              1,
              "#f0f921"
             ]
            ],
            "type": "histogram2d"
           }
          ],
          "histogram2dcontour": [
           {
            "colorbar": {
             "outlinewidth": 0,
             "ticks": ""
            },
            "colorscale": [
             [
              0,
              "#0d0887"
             ],
             [
              0.1111111111111111,
              "#46039f"
             ],
             [
              0.2222222222222222,
              "#7201a8"
             ],
             [
              0.3333333333333333,
              "#9c179e"
             ],
             [
              0.4444444444444444,
              "#bd3786"
             ],
             [
              0.5555555555555556,
              "#d8576b"
             ],
             [
              0.6666666666666666,
              "#ed7953"
             ],
             [
              0.7777777777777778,
              "#fb9f3a"
             ],
             [
              0.8888888888888888,
              "#fdca26"
             ],
             [
              1,
              "#f0f921"
             ]
            ],
            "type": "histogram2dcontour"
           }
          ],
          "mesh3d": [
           {
            "colorbar": {
             "outlinewidth": 0,
             "ticks": ""
            },
            "type": "mesh3d"
           }
          ],
          "parcoords": [
           {
            "line": {
             "colorbar": {
              "outlinewidth": 0,
              "ticks": ""
             }
            },
            "type": "parcoords"
           }
          ],
          "pie": [
           {
            "automargin": true,
            "type": "pie"
           }
          ],
          "scatter": [
           {
            "marker": {
             "colorbar": {
              "outlinewidth": 0,
              "ticks": ""
             }
            },
            "type": "scatter"
           }
          ],
          "scatter3d": [
           {
            "line": {
             "colorbar": {
              "outlinewidth": 0,
              "ticks": ""
             }
            },
            "marker": {
             "colorbar": {
              "outlinewidth": 0,
              "ticks": ""
             }
            },
            "type": "scatter3d"
           }
          ],
          "scattercarpet": [
           {
            "marker": {
             "colorbar": {
              "outlinewidth": 0,
              "ticks": ""
             }
            },
            "type": "scattercarpet"
           }
          ],
          "scattergeo": [
           {
            "marker": {
             "colorbar": {
              "outlinewidth": 0,
              "ticks": ""
             }
            },
            "type": "scattergeo"
           }
          ],
          "scattergl": [
           {
            "marker": {
             "colorbar": {
              "outlinewidth": 0,
              "ticks": ""
             }
            },
            "type": "scattergl"
           }
          ],
          "scattermapbox": [
           {
            "marker": {
             "colorbar": {
              "outlinewidth": 0,
              "ticks": ""
             }
            },
            "type": "scattermapbox"
           }
          ],
          "scatterpolar": [
           {
            "marker": {
             "colorbar": {
              "outlinewidth": 0,
              "ticks": ""
             }
            },
            "type": "scatterpolar"
           }
          ],
          "scatterpolargl": [
           {
            "marker": {
             "colorbar": {
              "outlinewidth": 0,
              "ticks": ""
             }
            },
            "type": "scatterpolargl"
           }
          ],
          "scatterternary": [
           {
            "marker": {
             "colorbar": {
              "outlinewidth": 0,
              "ticks": ""
             }
            },
            "type": "scatterternary"
           }
          ],
          "surface": [
           {
            "colorbar": {
             "outlinewidth": 0,
             "ticks": ""
            },
            "colorscale": [
             [
              0,
              "#0d0887"
             ],
             [
              0.1111111111111111,
              "#46039f"
             ],
             [
              0.2222222222222222,
              "#7201a8"
             ],
             [
              0.3333333333333333,
              "#9c179e"
             ],
             [
              0.4444444444444444,
              "#bd3786"
             ],
             [
              0.5555555555555556,
              "#d8576b"
             ],
             [
              0.6666666666666666,
              "#ed7953"
             ],
             [
              0.7777777777777778,
              "#fb9f3a"
             ],
             [
              0.8888888888888888,
              "#fdca26"
             ],
             [
              1,
              "#f0f921"
             ]
            ],
            "type": "surface"
           }
          ],
          "table": [
           {
            "cells": {
             "fill": {
              "color": "#EBF0F8"
             },
             "line": {
              "color": "white"
             }
            },
            "header": {
             "fill": {
              "color": "#C8D4E3"
             },
             "line": {
              "color": "white"
             }
            },
            "type": "table"
           }
          ]
         },
         "layout": {
          "annotationdefaults": {
           "arrowcolor": "#2a3f5f",
           "arrowhead": 0,
           "arrowwidth": 1
          },
          "autotypenumbers": "strict",
          "coloraxis": {
           "colorbar": {
            "outlinewidth": 0,
            "ticks": ""
           }
          },
          "colorscale": {
           "diverging": [
            [
             0,
             "#8e0152"
            ],
            [
             0.1,
             "#c51b7d"
            ],
            [
             0.2,
             "#de77ae"
            ],
            [
             0.3,
             "#f1b6da"
            ],
            [
             0.4,
             "#fde0ef"
            ],
            [
             0.5,
             "#f7f7f7"
            ],
            [
             0.6,
             "#e6f5d0"
            ],
            [
             0.7,
             "#b8e186"
            ],
            [
             0.8,
             "#7fbc41"
            ],
            [
             0.9,
             "#4d9221"
            ],
            [
             1,
             "#276419"
            ]
           ],
           "sequential": [
            [
             0,
             "#0d0887"
            ],
            [
             0.1111111111111111,
             "#46039f"
            ],
            [
             0.2222222222222222,
             "#7201a8"
            ],
            [
             0.3333333333333333,
             "#9c179e"
            ],
            [
             0.4444444444444444,
             "#bd3786"
            ],
            [
             0.5555555555555556,
             "#d8576b"
            ],
            [
             0.6666666666666666,
             "#ed7953"
            ],
            [
             0.7777777777777778,
             "#fb9f3a"
            ],
            [
             0.8888888888888888,
             "#fdca26"
            ],
            [
             1,
             "#f0f921"
            ]
           ],
           "sequentialminus": [
            [
             0,
             "#0d0887"
            ],
            [
             0.1111111111111111,
             "#46039f"
            ],
            [
             0.2222222222222222,
             "#7201a8"
            ],
            [
             0.3333333333333333,
             "#9c179e"
            ],
            [
             0.4444444444444444,
             "#bd3786"
            ],
            [
             0.5555555555555556,
             "#d8576b"
            ],
            [
             0.6666666666666666,
             "#ed7953"
            ],
            [
             0.7777777777777778,
             "#fb9f3a"
            ],
            [
             0.8888888888888888,
             "#fdca26"
            ],
            [
             1,
             "#f0f921"
            ]
           ]
          },
          "colorway": [
           "#636efa",
           "#EF553B",
           "#00cc96",
           "#ab63fa",
           "#FFA15A",
           "#19d3f3",
           "#FF6692",
           "#B6E880",
           "#FF97FF",
           "#FECB52"
          ],
          "font": {
           "color": "#2a3f5f"
          },
          "geo": {
           "bgcolor": "white",
           "lakecolor": "white",
           "landcolor": "#E5ECF6",
           "showlakes": true,
           "showland": true,
           "subunitcolor": "white"
          },
          "hoverlabel": {
           "align": "left"
          },
          "hovermode": "closest",
          "mapbox": {
           "style": "light"
          },
          "paper_bgcolor": "white",
          "plot_bgcolor": "#E5ECF6",
          "polar": {
           "angularaxis": {
            "gridcolor": "white",
            "linecolor": "white",
            "ticks": ""
           },
           "bgcolor": "#E5ECF6",
           "radialaxis": {
            "gridcolor": "white",
            "linecolor": "white",
            "ticks": ""
           }
          },
          "scene": {
           "xaxis": {
            "backgroundcolor": "#E5ECF6",
            "gridcolor": "white",
            "gridwidth": 2,
            "linecolor": "white",
            "showbackground": true,
            "ticks": "",
            "zerolinecolor": "white"
           },
           "yaxis": {
            "backgroundcolor": "#E5ECF6",
            "gridcolor": "white",
            "gridwidth": 2,
            "linecolor": "white",
            "showbackground": true,
            "ticks": "",
            "zerolinecolor": "white"
           },
           "zaxis": {
            "backgroundcolor": "#E5ECF6",
            "gridcolor": "white",
            "gridwidth": 2,
            "linecolor": "white",
            "showbackground": true,
            "ticks": "",
            "zerolinecolor": "white"
           }
          },
          "shapedefaults": {
           "line": {
            "color": "#2a3f5f"
           }
          },
          "ternary": {
           "aaxis": {
            "gridcolor": "white",
            "linecolor": "white",
            "ticks": ""
           },
           "baxis": {
            "gridcolor": "white",
            "linecolor": "white",
            "ticks": ""
           },
           "bgcolor": "#E5ECF6",
           "caxis": {
            "gridcolor": "white",
            "linecolor": "white",
            "ticks": ""
           }
          },
          "title": {
           "x": 0.05
          },
          "xaxis": {
           "automargin": true,
           "gridcolor": "white",
           "linecolor": "white",
           "ticks": "",
           "title": {
            "standoff": 15
           },
           "zerolinecolor": "white",
           "zerolinewidth": 2
          },
          "yaxis": {
           "automargin": true,
           "gridcolor": "white",
           "linecolor": "white",
           "ticks": "",
           "title": {
            "standoff": 15
           },
           "zerolinecolor": "white",
           "zerolinewidth": 2
          }
         }
        }
       }
      }
     },
     "metadata": {},
     "output_type": "display_data"
    }
   ],
   "source": [
    "map_full_percentage = px.choropleth(df_vac_percentages, locations=\"iso_code\" , color=\"fully vaccinated percentage\"\n",
    "                                    , hover_name=\"country\" , color_continuous_scale=px.colors.sequential.YlGn)\n",
    "\n",
    "map_full_percentage.show()"
   ]
  },
  {
   "cell_type": "code",
   "execution_count": 98,
   "metadata": {},
   "outputs": [
    {
     "data": {
      "image/png": "[encoded data removed]",
      "text/plain": [
       "<Figure size 576x576 with 2 Axes>"
      ]
     },
     "metadata": {},
     "output_type": "display_data"
    }
   ],
   "source": [
    "plt.subplots(figsize=(8, 8))\n",
    "sns.heatmap(df.corr(), annot=True, square=True)\n",
    "plt.show()"
   ]
  },
  {
   "cell_type": "markdown",
   "metadata": {},
   "source": [
    "### Methods"
   ]
  },
  {
   "cell_type": "code",
   "execution_count": 21,
   "metadata": {},
   "outputs": [],
   "source": [
    "class DataModeler:\n",
    "    def __init__(self):\n",
    "        pass\n",
    "\n",
    "    def _parametrized(dec):\n",
    "        def layer(*args, **kwargs):\n",
    "            def repl(f):\n",
    "                return dec(f, *args, **kwargs)\n",
    "            return repl\n",
    "        return layer\n",
    "\n",
    "    @staticmethod\n",
    "    @_parametrized\n",
    "    def logger(f, job):\n",
    "        def aux(self, *xs, **kws):\n",
    "            print(job + \" - \", end='\\t')\n",
    "            res = f(self, *xs, **kws)\n",
    "            print(\"Completed\")\n",
    "            return res\n",
    "        return aux"
   ]
  },
  {
   "cell_type": "markdown",
   "metadata": {},
   "source": [
    "### Preprocessing"
   ]
  },
  {
   "cell_type": "code",
   "execution_count": 94,
   "metadata": {},
   "outputs": [],
   "source": [
    "class DataPreprocessor(DataModeler):\n",
    "    \"Wrap the operations of data preprocessing.\"\n",
    "    \n",
    "    def __init__(self):\n",
    "      super(DataPreprocessor, self).__init__()\n",
    "      \n",
    "    @DataModeler.logger(\"Transforming feature type\")\n",
    "    def _feature_transform(self, df:pd.DataFrame) -> List[pd.DataFrame]:\n",
    "      \"\"\"\n",
    "      Transform data type of some columns.\n",
    "      @param df: raw data\n",
    "      return: processed data\n",
    "      \"\"\"\n",
    "      df['date'] = pd.to_datetime(df['date'],format=\"%Y-%m-%d\")\n",
    "  \n",
    "      return df\n",
    "\n",
    "    @DataModeler.logger(\"Counting missing rate\")\n",
    "    def missing_value_counter(self,df:pd.DataFrame, cols:List[str]) -> pd.DataFrame:\n",
    "      \"\"\"\n",
    "      Count missing values in specified columns.\n",
    "      @param df: dataframe\n",
    "      @param cols: columns to be calculated\n",
    "      return: summary information\n",
    "      \"\"\"\n",
    "      res = pd.DataFrame(cols, columns=['Feature'])\n",
    "      na_cnts = [sum(df[col].isna()) for col in cols]\n",
    "      res['NA Count'] = na_cnts\n",
    "      res['NA Rate'] = res['NA Count'] / df.shape[0]\n",
    "      res = res[res['NA Count'] != 0]\n",
    "      res = res.sort_values(by='NA Count', ascending=False).reset_index(drop=True)\n",
    "      return res\n",
    "\n",
    "    @DataModeler.logger(\"Checking day interval\")\n",
    "    def check_day_interval(self,d0:date,d1:date):\n",
    "        \"\"\"\n",
    "        get internal day to check missing value \n",
    "        \"\"\"\n",
    "        #d0 = date(2020,12,20)\n",
    "        #d1 = date(2021 , 10 , 26)\n",
    "        delta = d1 - d0\n",
    "        days = delta.days + 1\n",
    "        print(days) #no missing value in 'date'! nice!\n",
    "        return days\n",
    "\n",
    "    @DataModeler.logger(\"Checking missing value\")    \n",
    "    def missing_value(self,data):\n",
    "        return data.isna().sum()\n",
    "\n",
    "    @DataModeler.logger(\"filling missing value using the day ahead\")   \n",
    "    def fill_missing_value(self,data,target:str):\n",
    "        \"\"\"\n",
    "        fill missing value by the value of last day \n",
    "        \"\"\"\n",
    "        for i in data[target][data[target].isna() == True].index:\n",
    "            data[target][i] = data[target][i-1] \n",
    "        return data\n",
    "\n",
    "    @DataModeler.logger(\"Filtering useful columns\")\n",
    "    def _filter_data(self, df:pd.DataFrame) -> List[pd.DataFrame]:\n",
    "      \"\"\"\n",
    "      Select useful variables for the model\n",
    "      @param df: raw data\n",
    "      return: processed data\n",
    "      \"\"\"\n",
    "      df_filtered = df[['date','daily_vaccinations']]\n",
    "      return df_filtered\n",
    "\n",
    "    @DataModeler.logger(\"Filling missing value\")\n",
    "    def _fill_missing_value(self, df:pd.DataFrame) -> pd.DataFrame:\n",
    "      \"\"\"\n",
    "      Fill missing values in input data.\n",
    "      param df: dataframe\n",
    "      return: processed dataframe\n",
    "      \"\"\"\n",
    "      res = df.fillna(0.0)\n",
    "      return res\n",
    "    \n",
    "    @DataModeler.logger(\"Sort data by date\")\n",
    "    def _sort_data(self, df:pd.DataFrame) -> List[pd.DataFrame]:\n",
    "      \"\"\"\n",
    "      Sort data by date\n",
    "      @param df: raw data\n",
    "      return: processed data\n",
    "      \"\"\"\n",
    "      df = df.sort_values(by='date')\n",
    "      return df\n",
    "        \n",
    "    def preprocess(self, df:pd.DataFrame) -> pd.DataFrame:\n",
    "        \"\"\"\n",
    "        Preprocess raw data and modify the fields to get required columns.\n",
    "        @param df: raw data\n",
    "        return: combined clean vaccination data\n",
    "        \"\"\"\n",
    "        df = self._feature_transform(df)\n",
    "        df = self._filter_data(df)\n",
    "        df = self._fill_missing_value(df)\n",
    "        df = self._sort_data(df)\n",
    "\n",
    "        df = df.groupby(by=['date']).sum().reset_index()\n",
    "        df['total_vaccinations'] = df['daily_vaccinations'].cumsum() \n",
    "        df['percentage_people_vaccinated'] = (df['total_vaccinations']/(8032669179*2))*100\n",
    "\n",
    "        return df"
   ]
  },
  {
   "cell_type": "markdown",
   "metadata": {},
   "source": [
    "### Feature Engineering"
   ]
  },
  {
   "cell_type": "code",
   "execution_count": 72,
   "metadata": {},
   "outputs": [],
   "source": [
    "class FeatureEngineer(DataModeler):\n",
    "    \"Wrap the operations of feature engineering.\"\n",
    "    def __init__(self):\n",
    "        super(FeatureEngineer, self).__init__()\n",
    "    \n",
    "    @DataModeler.logger(\"Generating date features\")\n",
    "    def _gen_date_feats(self, data1:pd.DataFrame):\n",
    "        \"\"\"\n",
    "        Extract date features from time of data\n",
    "        return:  dataframe with new features\n",
    "        \"\"\"\n",
    "        data1['Date'] = pd.to_datetime(data1['Date'])\n",
    "        data1['Date'] = data1['Date'].dt.strftime('%d.%m.%Y')\n",
    "        data1['year'] = pd.DatetimeIndex(data1['Date']).year\n",
    "        data1['month'] = pd.DatetimeIndex(data1['Date']).month\n",
    "        data1['day'] = pd.DatetimeIndex(data1['Date']).day\n",
    "        data1['dayofyear'] = pd.DatetimeIndex(data1['Date']).dayofyear\n",
    "        data1['weekofyear'] = pd.DatetimeIndex(data1['Date']).weekofyear\n",
    "        data1['weekday'] = pd.DatetimeIndex(data1['Date']).weekday\n",
    "        data1['quarter'] = pd.DatetimeIndex(data1['Date']).quarter\n",
    "        data1['is_month_start'] = pd.DatetimeIndex(data1['Date']).is_month_start\n",
    "        data1['is_month_end'] = pd.DatetimeIndex(data1['Date']).is_month_end\n",
    "        print(data1.info())\n",
    "        return data1\n",
    "    \n",
    "    @DataModeler.logger(\"Generating sliding window features\")\n",
    "    def gen_window(self,data1:pd.DataFrame,tar:str, width:str):\n",
    "        \"\"\"\n",
    "        Use sliding window to generate features\n",
    "        return: dataframe with new features\n",
    "        \"\"\"\n",
    "        data1['Series'] = np.arange(1 , len(data1)+1)\n",
    "        #define lag \n",
    "        data1['Shift1'] = data1[tar].shift(1)\n",
    "\n",
    "        # define Window = 7\n",
    "        #window_len = 7\n",
    "        data1['Window_mean'] = data1['Shift1'].rolling(window = width).mean()\n",
    "\n",
    "        #remove missing value \n",
    "        data1.dropna(inplace = True)\n",
    "        data1.reset_index(drop = True , inplace=True)\n",
    "\n",
    "        #df_X = data1[['Date', 'Series' , 'Window_mean' , 'Shift1' ]]\n",
    "        #df_Y = data1[['Target']]\n",
    "        return data1\n",
    "\n",
    "    "
   ]
  },
  {
   "cell_type": "markdown",
   "metadata": {},
   "source": [
    "### Prophet model"
   ]
  },
  {
   "cell_type": "code",
   "execution_count": null,
   "metadata": {},
   "outputs": [],
   "source": [
    "class MLModeler(DataModeler):\n",
    "    \"Wrap the operations of Prophet model.\"\n",
    "    \n",
    "    def __init__(self):\n",
    "      super(MLModeler, self).__init__()\n",
    "      \n",
    "    @DataModeler.logger(\"Transforming feature type\")\n",
    "    def _train_test_split(self, df:pd.DataFrame,target_variable):\n",
    "      \"\"\"\n",
    "      Split data into training and validation dataset.\n",
    "      @param df: processed data\n",
    "      return: train and validation data\n",
    "      \"\"\"\n",
    "      df = df.rename(columns={'date':'ds',target_variable:'y'})\n",
    "      df['cap'] = 100\n",
    "      df['floor'] = 0\n",
    "      df_train = df[df['ds'] < datetime(2021,8,22)]\n",
    "      df_val = df[df['ds'] >= datetime(2021,8,22)]\n",
    "  \n",
    "      return df_train,df_val\n",
    "\n",
    "    @DataModeler.logger(\"Fit model on training data\")\n",
    "    def _fit_model(self, df:pd.DataFrame):\n",
    "      \"\"\"\n",
    "      Fit the model on training data \n",
    "      @param df: raw data\n",
    "      return: trained model\n",
    "      \"\"\"\n",
    "      m = Prophet()\n",
    "      m.fit(df)\n",
    "      return m\n",
    "\n",
    "    @DataModeler.logger(\"Predict results on test data\")\n",
    "    def _predict_test(self, m) -> pd.DataFrame:\n",
    "      \"\"\"\n",
    "      Test the trained model.\n",
    "      param m: trained\n",
    "      return: dataframe containing forecasts\n",
    "      \"\"\"\n",
    "      future = m.make_future_dataframe(periods=90) \n",
    "      forecast = m.predict(future)\n",
    "      return forecast\n",
    "    \n",
    "    @DataModeler.logger(\"Plot predicted data\")\n",
    "    def _plot_forecast(self, m):\n",
    "      \"\"\"\n",
    "      Plot predicted data\n",
    "      @param m: model\n",
    "      return: none\n",
    "      \"\"\"\n",
    "      fig1 = m.plot(forecast)\n",
    "\n",
    "    @DataModeler.logger(\"Plot components of predicted data\")\n",
    "    def _plot_components_forecast(self, m):\n",
    "      \"\"\"\n",
    "      Plot components of predicted data\n",
    "      @param m: model\n",
    "      return: none\n",
    "      \"\"\"\n",
    "      fig2 = m.plot_components(forecast)\n",
    "        \n",
    "    @DataModeler.logger(\"Plot cross validation metrics\")    \n",
    "    def _plot_cross_validation_metrics(self, m):\n",
    "      \"\"\"\n",
    "      Plot cross validation metrics.\n",
    "      @param m: trained model\n",
    "      return: combined clean vaccination data\n",
    "      \"\"\"\n",
    "      df_cv = cross_validation(m, initial='165 days', period='100 days', horizon = '65 days')\n",
    "      df_p = performance_metrics(df_cv)\n",
    "      fig3 = plot_cross_validation_metric(df_cv, metric='mape')\n",
    "    \n",
    "    @DataModeler.logger(\"Calculate RMSE, MAE, MAPE on test data\")    \n",
    "    def _calculate_metrics(self, m):\n",
    "      \"\"\"\n",
    "      Calculate RMSE on test data.\n",
    "      @param m: trained model\n",
    "      return: rmse\n",
    "      \"\"\"\n",
    "      df_cv = cross_validation(m, initial='165 days', period='100 days', horizon = '65 days')\n",
    "      df_p = performance_metrics(df_cv)\n",
    "      print('RMSE - ',df_p['rmse'].min())\n",
    "      print('MAE - ',df_p['mae'].min())\n",
    "      print('MAPE - ',df_p['mape'].min())\n",
    "    \n",
    "    @DataModeler.logger(\"Tuning hyperparameters\")    \n",
    "    def _hyperparameter_tuning(self, m, df):\n",
    "      def create_param_combinations(**param_dict):\n",
    "          param_iter = itertools.product(*param_dict.values())\n",
    "          params =[]\n",
    "          for param in param_iter:\n",
    "              params.append(param) \n",
    "          params_df = pd.DataFrame(params, columns=list(param_dict.keys()))\n",
    "          return params_df\n",
    "\n",
    "      def single_cv_run(history_df, metrics, param_dict):\n",
    "          m = Prophet(**param_dict)\n",
    "          m.add_country_holidays(country_name='US')\n",
    "          m.fit(history_df)\n",
    "          df_cv = cross_validation(m, initial='165 days', period='100 days', horizon = '65 days')\n",
    "          df_p = performance_metrics(df_cv).mean().to_frame().T\n",
    "          df_p['params'] = str(param_dict)\n",
    "          df_p = df_p.loc[:, metrics]\n",
    "          return df_p\n",
    "\n",
    "      param_grid = {  \n",
    "                      'changepoint_prior_scale': [0.005, 0.05, 0.5, 5],\n",
    "                      'changepoint_range': [0.8, 0.9],\n",
    "                      'seasonality_prior_scale':[0.1, 1, 10.0],\n",
    "                      'holidays_prior_scale':[0.1, 1, 10.0],\n",
    "                      'seasonality_mode': ['multiplicative', 'additive'],\n",
    "                      'growth': ['linear', 'logistic'],\n",
    "                      'yearly_seasonality': [5, 10, 20]\n",
    "                    }\n",
    "\n",
    "      metrics = ['horizon', 'rmse', 'mape', 'params'] \n",
    "\n",
    "      results = []\n",
    "\n",
    "\n",
    "      params_df = create_param_combinations(**param_grid)\n",
    "      for param in params_df.values:\n",
    "          param_dict = dict(zip(params_df.keys(), param))\n",
    "          cv_df = single_cv_run(df,  metrics, param_dict)\n",
    "          results.append(cv_df)\n",
    "      results_df = pd.concat(results).reset_index(drop=True)\n",
    "      return results_df.loc[results_df['rmse'] == min(results_df['rmse']), ['params']]"
   ]
  },
  {
   "cell_type": "markdown",
   "metadata": {},
   "source": [
    "### ARIMA model"
   ]
  },
  {
   "cell_type": "code",
   "execution_count": 48,
   "metadata": {},
   "outputs": [],
   "source": [
    "class time_Series_Learner():\n",
    "    def __init__(self):\n",
    "      super(time_Series_Learner, self).__init__()\n",
    "\n",
    "    @DataModeler.logger(\"Hypothesis testing\")\n",
    "    def Hypothesis_test(self,df):\n",
    "        result = adfuller(df.dropna())\n",
    "        print('ADF Statistic: %f' % result[0])\n",
    "        print('p-value: %f' % result[1])\n",
    "\n",
    "    @DataModeler.logger(\"Transforming feature type\")\n",
    "    def split_dataset(self,X, y, train_ratio=0.8):\n",
    "        X_len = len(X)\n",
    "        train_data_len = int(X_len * train_ratio)\n",
    "  \n",
    "        X_train = X[:train_data_len]\n",
    "        y_train = y[:train_data_len]\n",
    "\n",
    "        X_valid = X[train_data_len:]\n",
    "        y_valid = y[train_data_len:]\n",
    "\n",
    "        return X_train, X_valid, y_train, y_valid\n",
    "\n",
    "    @DataModeler.logger(\"Training\")\n",
    "    def Univariate_Arima(self, train_Y,parameters:tuple,Y_valid):\n",
    "        model = ARIMA(train_Y, order=parameters) # p,d,q parameters \n",
    "        model_fit = model.fit()\n",
    "\n",
    "        y_pred = model_fit.forecast(len(Y_valid))\n",
    "\n",
    "        # Calcuate metrics\n",
    "        metrics = {} \n",
    "        score_mae = mean_absolute_error(Y_valid, y_pred)\n",
    "        metrics[\"mae\"] = score_mae\n",
    "        score_rmse = math.sqrt(mean_squared_error(Y_valid, y_pred))\n",
    "        metrics[\"rmse\"] = score_rmse\n",
    "        score_r2 = r2_score(Y_valid, y_pred)\n",
    "        metrics[\"r2\"] = score_r2\n",
    "        #print('RMSE: {}'.format(score_rmse))\n",
    "        return metrics, model_fit\n",
    "\n",
    "    @DataModeler.logger(\"Tuning hyperparameters\") \n",
    "    def tune_parameters(self, parameters,y_train,y_valid):\n",
    "        rmse, AIC = [], []\n",
    "        for parameters in pdq:\n",
    "            warnings.filterwarnings(\"ignore\") # specify to ignore warning messages\n",
    "            score_rmse, model_fit = self.Univariate_Arima(y_train,parameters,y_valid)\n",
    "            #rmse.append(score_rmse)\n",
    "            AIC.append(model_fit.aic) \n",
    "        final, index = min(AIC), AIC.index(min(AIC))\n",
    "        parameter = pdq[index]\n",
    "        #print(AIC)\n",
    "        print(\"suitable parameter:\",parameter)\n",
    "        print(\"result:\",final)\n",
    "        return parameter\n",
    "    \n",
    "    @DataModeler.logger(\"Predict results on test data\")\n",
    "    def valid_forcast(self, model_fit):\n",
    "        y_pred = model_fit.forecast(66)\n",
    "        return y_pred\n",
    "    \n",
    "    @DataModeler.logger(\"Plot predicted data\")\n",
    "    def plot_predict_test(self, X_valid, y_pred, y_valid ):\n",
    "        fig = plt.figure(figsize=(15,4))\n",
    "        sns.lineplot(x=X_valid.index, y=y_pred,  color='blue', label='predicted') #navajowhite\n",
    "        sns.lineplot(x=X_valid.index, y=y_valid, color='orange', label='Ground truth') #navajowhite\n",
    "\n",
    "        plt.xlabel(xlabel='Date', fontsize=14)\n",
    "        plt.ylabel(ylabel='Percentage Vaccinations', fontsize=14)\n",
    "        plt.xticks(rotation=-60)\n",
    "\n",
    "        plt.show()\n",
    "    \n",
    "    @DataModeler.logger(\"Model diagonostic\")\n",
    "    def Model_diagonostic(self, model_fit):\n",
    "        model_fit.plot_diagnostics(figsize=(15, 12))\n",
    "        plt.show()\n"
   ]
  },
  {
   "cell_type": "markdown",
   "metadata": {},
   "source": [
    "### Regression model: preliminary result for choosing models"
   ]
  },
  {
   "cell_type": "code",
   "execution_count": 83,
   "metadata": {},
   "outputs": [],
   "source": [
    "class RF_Learner(DataModeler):\n",
    "    \"Wrap the operations of RF model.\"\n",
    "    def __init__(self):\n",
    "      super(RF_Learner, self).__init__()\n",
    "\n",
    "    @DataModeler.logger(\"Transforming feature type\")\n",
    "    def split_dataset(self,X, y, train_ratio=0.8):\n",
    "        X_len = len(X)\n",
    "        train_data_len = int(X_len * train_ratio)\n",
    "  \n",
    "        X_train = X[:train_data_len]\n",
    "        y_train = y[:train_data_len]\n",
    "\n",
    "        X_valid = X[train_data_len:]\n",
    "        y_valid = y[train_data_len:]\n",
    "\n",
    "        return X_train, X_valid, y_train, y_valid\n",
    "\n",
    "    @DataModeler.logger(\"Transforming feature type_2\")\n",
    "    def trim(self, stamp:List[str], x_train, x_valid):\n",
    "        predictors_train = list(set(list(x_train.columns))-set(stamp))\n",
    "\n",
    "        x_train = x_train[predictors_train].values\n",
    "        #y_train = x_train[target].values\n",
    "        x_valid = x_valid[predictors_train].values\n",
    "        #y_valid_ = df_test[target].values\n",
    "        return x_train, x_valid\n",
    "\n",
    "    @DataModeler.logger(\"Fit model on training data\")\n",
    "    def RF_train(self,x_train, y_train,x_valid):\n",
    "        regressor = RandomForestRegressor(n_estimators=200, random_state=0)\n",
    "        regressor.fit(x_train, y_train)  \n",
    "        y_pred = regressor.predict(x_valid)\n",
    "        return y_pred \n",
    "\n",
    "    @DataModeler.logger(\"Predict results on test data\")\n",
    "    def predict(self,y_pred,y_valid):\n",
    "          # Calcuate metrics\n",
    "        metrics = {} \n",
    "        score_mae = mean_absolute_error(y_valid, y_pred)\n",
    "        metrics[\"mae\"] = score_mae\n",
    "        score_rmse = math.sqrt(mean_squared_error(y_valid, y_pred))\n",
    "        metrics[\"rmse\"] = score_rmse\n",
    "        score_r2 = r2_score(y_valid, y_pred)\n",
    "        metrics[\"r2\"] = score_r2\n",
    "        return metrics\n",
    "\n"
   ]
  },
  {
   "cell_type": "markdown",
   "metadata": {},
   "source": [
    "#### ARIMA learner"
   ]
  },
  {
   "cell_type": "code",
   "execution_count": 55,
   "metadata": {},
   "outputs": [],
   "source": [
    "# loading data from univariate -- \n",
    "df_world = pd.read_csv(\"/Users/luomingni/Desktop/MS/first term/5220_SML/Project/world_filtered_data.csv\")\n",
    "\n",
    "# define\n",
    "df_world1 = pd.DataFrame(df_world,columns = ['date','percentage_people_vaccinated'])\n",
    "df_world1.index = df_world1['date']\n",
    "\n",
    "X = df_world1['date']\n",
    "y = df_world1['percentage_people_vaccinated']"
   ]
  },
  {
   "cell_type": "code",
   "execution_count": 49,
   "metadata": {},
   "outputs": [
    {
     "name": "stdout",
     "output_type": "stream",
     "text": [
      "Hypothesis testing - \tADF Statistic: -3.745211\n",
      "p-value: 0.003520\n",
      "Completed\n"
     ]
    }
   ],
   "source": [
    "# ARIMA leaner\n",
    "ARIMA_leaner = time_Series_Learner()\n",
    "ARIMA_leaner.Hypothesis_test(df_world1.percentage_people_vaccinated)"
   ]
  },
  {
   "cell_type": "code",
   "execution_count": 50,
   "metadata": {},
   "outputs": [],
   "source": [
    "#grid search\n",
    "# Define the p, d and q parameters to take any value between 0 and 2\n",
    "p = q = range(0, 4)\n",
    "d = range(0,2)\n",
    "# Generate all different combinations of p, q and q triplets\n",
    "pdq = list(itertools.product(p, d, q))"
   ]
  },
  {
   "cell_type": "code",
   "execution_count": 51,
   "metadata": {},
   "outputs": [
    {
     "name": "stdout",
     "output_type": "stream",
     "text": [
      "Transforming feature type - \tCompleted\n",
      "Tuning hyperparameters - \tTraining - \tCompleted\n",
      "Training - \tCompleted\n",
      "Training - \tCompleted\n",
      "Training - \tCompleted\n",
      "Training - \tCompleted\n",
      "Training - \tCompleted\n",
      "Training - \tCompleted\n",
      "Training - \tCompleted\n",
      "Training - \tCompleted\n",
      "Training - \tCompleted\n",
      "Training - \tCompleted\n",
      "Training - \tCompleted\n",
      "Training - \tCompleted\n",
      "Training - \tCompleted\n",
      "Training - \tCompleted\n",
      "Training - \tCompleted\n",
      "Training - \tCompleted\n",
      "Training - \tCompleted\n",
      "Training - \tCompleted\n",
      "Training - \tCompleted\n",
      "Training - \tCompleted\n",
      "Training - \tCompleted\n",
      "Training - \tCompleted\n",
      "Training - \tCompleted\n",
      "Training - \tCompleted\n",
      "Training - \tCompleted\n",
      "Training - \tCompleted\n",
      "Training - \tCompleted\n",
      "Training - \tCompleted\n",
      "Training - \tCompleted\n",
      "Training - \tCompleted\n",
      "Training - \tCompleted\n",
      "suitable parameter: (2, 1, 2)\n",
      "result: -2427.1633237520673\n",
      "Completed\n"
     ]
    }
   ],
   "source": [
    "X_train, X_valid, y_train, y_valid = ARIMA_leaner.split_dataset(X,y)\n",
    "parameter = ARIMA_leaner.tune_parameters(pdq,y_train,y_valid)"
   ]
  },
  {
   "cell_type": "code",
   "execution_count": 52,
   "metadata": {},
   "outputs": [
    {
     "name": "stdout",
     "output_type": "stream",
     "text": [
      "Training - \tCompleted\n"
     ]
    },
    {
     "data": {
      "text/plain": [
       "{'mae': 0.3462850418609392,\n",
       " 'rmse': 0.3988365517137672,\n",
       " 'r2': 0.9875053441955797}"
      ]
     },
     "execution_count": 52,
     "metadata": {},
     "output_type": "execute_result"
    }
   ],
   "source": [
    "metrics, model_fit = ARIMA_leaner.Univariate_Arima(y_train,(2,1,2),y_valid)\n",
    "metrics"
   ]
  },
  {
   "cell_type": "code",
   "execution_count": 53,
   "metadata": {},
   "outputs": [
    {
     "name": "stdout",
     "output_type": "stream",
     "text": [
      "Predict results on test data - \tCompleted\n",
      "Plot predicted data - \t"
     ]
    },
    {
     "data": {
      "image/png": "[encoded data removed]",
      "text/plain": [
       "<Figure size 1080x288 with 1 Axes>"
      ]
     },
     "metadata": {},
     "output_type": "display_data"
    },
    {
     "name": "stdout",
     "output_type": "stream",
     "text": [
      "Completed\n"
     ]
    }
   ],
   "source": [
    "y_pred = ARIMA_leaner.valid_forcast(model_fit)\n",
    "ARIMA_leaner.plot_predict_test(X_valid,y_pred,y_valid)"
   ]
  },
  {
   "cell_type": "code",
   "execution_count": 54,
   "metadata": {},
   "outputs": [
    {
     "name": "stdout",
     "output_type": "stream",
     "text": [
      "Model diagonostic - \t"
     ]
    },
    {
     "data": {
      "image/png": "[encoded data removed]",
      "text/plain": [
       "<Figure size 1080x864 with 4 Axes>"
      ]
     },
     "metadata": {},
     "output_type": "display_data"
    },
    {
     "name": "stdout",
     "output_type": "stream",
     "text": [
      "Completed\n"
     ]
    }
   ],
   "source": [
    "ARIMA_leaner.Model_diagonostic(model_fit)"
   ]
  }
 ],
 "metadata": {
  "interpreter": {
   "hash": "7812ea015bdcee6f23a998adcdd2ef97c151c0c241b7b7070987d9313e41299d"
  },
  "kernelspec": {
   "display_name": "Python 3.9.1 64-bit",
   "language": "python",
   "name": "python3"
  },
  "language_info": {
   "codemirror_mode": {
    "name": "ipython",
    "version": 3
   },
   "file_extension": ".py",
   "mimetype": "text/x-python",
   "name": "python",
   "nbconvert_exporter": "python",
   "pygments_lexer": "ipython3",
   "version": "3.9.1"
  },
  "orig_nbformat": 4
 },
 "nbformat": 4,
 "nbformat_minor": 2
}

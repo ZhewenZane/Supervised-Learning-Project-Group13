{
 "cells": [
  {
   "cell_type": "code",
   "execution_count": 1,
   "id": "8f5e2252",
   "metadata": {},
   "outputs": [],
   "source": [
    "import pandas as pd\n",
    "import geopandas as gpd\n",
    "import mapclassify\n",
    "import numpy as np\n",
    "import matplotlib.pyplot as plt\n",
    "import seaborn as sns\n",
    "from datetime import datetime\n",
    "import PIL"
   ]
  },
  {
   "cell_type": "code",
   "execution_count": 2,
   "id": "1e15eea8",
   "metadata": {},
   "outputs": [],
   "source": [
    "present_data = pd.read_csv(\"world_filtered_data.csv\")"
   ]
  },
  {
   "cell_type": "code",
   "execution_count": 122,
   "id": "cc7e39b6",
   "metadata": {},
   "outputs": [],
   "source": [
    "future_RNN = pd.read_csv('future_RNN.csv')\n",
    "future_arima = pd.read_csv('future_arima.csv')\n",
    "future_prophet = pd.read_csv(\"future_prophet.csv\")"
   ]
  },
  {
   "cell_type": "code",
   "execution_count": 150,
   "id": "75fca817",
   "metadata": {},
   "outputs": [],
   "source": [
    "time_series_frame = pd.date_range(start=datetime(2021,9,7),periods=140)\n",
    "time_series_frame = pd.DataFrame(time_series_frame,columns=['date'])"
   ]
  },
  {
   "cell_type": "code",
   "execution_count": 152,
   "id": "e1adacc9",
   "metadata": {},
   "outputs": [
    {
     "data": {
      "text/html": [
       "<div>\n",
       "<style scoped>\n",
       "    .dataframe tbody tr th:only-of-type {\n",
       "        vertical-align: middle;\n",
       "    }\n",
       "\n",
       "    .dataframe tbody tr th {\n",
       "        vertical-align: top;\n",
       "    }\n",
       "\n",
       "    .dataframe thead th {\n",
       "        text-align: right;\n",
       "    }\n",
       "</style>\n",
       "<table border=\"1\" class=\"dataframe\">\n",
       "  <thead>\n",
       "    <tr style=\"text-align: right;\">\n",
       "      <th></th>\n",
       "      <th>date</th>\n",
       "      <th>daily_vaccinations</th>\n",
       "      <th>total_vaccinations</th>\n",
       "      <th>percentage_people_vaccinated</th>\n",
       "    </tr>\n",
       "  </thead>\n",
       "  <tbody>\n",
       "    <tr>\n",
       "      <th>0</th>\n",
       "      <td>2020-12-01</td>\n",
       "      <td>0.0</td>\n",
       "      <td>0.000000e+00</td>\n",
       "      <td>0.000000</td>\n",
       "    </tr>\n",
       "    <tr>\n",
       "      <th>1</th>\n",
       "      <td>2020-12-02</td>\n",
       "      <td>0.0</td>\n",
       "      <td>0.000000e+00</td>\n",
       "      <td>0.000000</td>\n",
       "    </tr>\n",
       "    <tr>\n",
       "      <th>2</th>\n",
       "      <td>2020-12-03</td>\n",
       "      <td>0.0</td>\n",
       "      <td>0.000000e+00</td>\n",
       "      <td>0.000000</td>\n",
       "    </tr>\n",
       "    <tr>\n",
       "      <th>3</th>\n",
       "      <td>2020-12-04</td>\n",
       "      <td>0.0</td>\n",
       "      <td>0.000000e+00</td>\n",
       "      <td>0.000000</td>\n",
       "    </tr>\n",
       "    <tr>\n",
       "      <th>4</th>\n",
       "      <td>2020-12-05</td>\n",
       "      <td>0.0</td>\n",
       "      <td>0.000000e+00</td>\n",
       "      <td>0.000000</td>\n",
       "    </tr>\n",
       "    <tr>\n",
       "      <th>...</th>\n",
       "      <td>...</td>\n",
       "      <td>...</td>\n",
       "      <td>...</td>\n",
       "      <td>...</td>\n",
       "    </tr>\n",
       "    <tr>\n",
       "      <th>325</th>\n",
       "      <td>2021-10-22</td>\n",
       "      <td>24551397.0</td>\n",
       "      <td>6.851279e+09</td>\n",
       "      <td>42.646344</td>\n",
       "    </tr>\n",
       "    <tr>\n",
       "      <th>326</th>\n",
       "      <td>2021-10-23</td>\n",
       "      <td>25374934.0</td>\n",
       "      <td>6.876654e+09</td>\n",
       "      <td>42.804292</td>\n",
       "    </tr>\n",
       "    <tr>\n",
       "      <th>327</th>\n",
       "      <td>2021-10-24</td>\n",
       "      <td>24726686.0</td>\n",
       "      <td>6.901381e+09</td>\n",
       "      <td>42.958206</td>\n",
       "    </tr>\n",
       "    <tr>\n",
       "      <th>328</th>\n",
       "      <td>2021-10-25</td>\n",
       "      <td>22944888.0</td>\n",
       "      <td>6.924326e+09</td>\n",
       "      <td>43.101028</td>\n",
       "    </tr>\n",
       "    <tr>\n",
       "      <th>329</th>\n",
       "      <td>2021-10-26</td>\n",
       "      <td>16789321.0</td>\n",
       "      <td>6.941115e+09</td>\n",
       "      <td>43.205534</td>\n",
       "    </tr>\n",
       "  </tbody>\n",
       "</table>\n",
       "<p>330 rows × 4 columns</p>\n",
       "</div>"
      ],
      "text/plain": [
       "           date  daily_vaccinations  total_vaccinations  \\\n",
       "0    2020-12-01                 0.0        0.000000e+00   \n",
       "1    2020-12-02                 0.0        0.000000e+00   \n",
       "2    2020-12-03                 0.0        0.000000e+00   \n",
       "3    2020-12-04                 0.0        0.000000e+00   \n",
       "4    2020-12-05                 0.0        0.000000e+00   \n",
       "..          ...                 ...                 ...   \n",
       "325  2021-10-22          24551397.0        6.851279e+09   \n",
       "326  2021-10-23          25374934.0        6.876654e+09   \n",
       "327  2021-10-24          24726686.0        6.901381e+09   \n",
       "328  2021-10-25          22944888.0        6.924326e+09   \n",
       "329  2021-10-26          16789321.0        6.941115e+09   \n",
       "\n",
       "     percentage_people_vaccinated  \n",
       "0                        0.000000  \n",
       "1                        0.000000  \n",
       "2                        0.000000  \n",
       "3                        0.000000  \n",
       "4                        0.000000  \n",
       "..                            ...  \n",
       "325                     42.646344  \n",
       "326                     42.804292  \n",
       "327                     42.958206  \n",
       "328                     43.101028  \n",
       "329                     43.205534  \n",
       "\n",
       "[330 rows x 4 columns]"
      ]
     },
     "execution_count": 152,
     "metadata": {},
     "output_type": "execute_result"
    }
   ],
   "source": [
    "present_data"
   ]
  },
  {
   "cell_type": "code",
   "execution_count": 125,
   "id": "18a02872",
   "metadata": {},
   "outputs": [],
   "source": [
    "future_RNN = future_RNN.to_numpy()"
   ]
  },
  {
   "cell_type": "code",
   "execution_count": 127,
   "id": "bae264bf",
   "metadata": {},
   "outputs": [],
   "source": [
    "future_RNN = future_RNN[:,-1].reshape(-1,1)"
   ]
  },
  {
   "cell_type": "code",
   "execution_count": 129,
   "id": "285c719c",
   "metadata": {},
   "outputs": [],
   "source": [
    "future_arima = future_arima.to_numpy()"
   ]
  },
  {
   "cell_type": "code",
   "execution_count": 133,
   "id": "7005ce73",
   "metadata": {},
   "outputs": [],
   "source": [
    "future_arima = future_arima[-90:,-1].reshape(-1,1)"
   ]
  },
  {
   "cell_type": "code",
   "execution_count": 137,
   "id": "6142897b",
   "metadata": {},
   "outputs": [],
   "source": [
    "future_prophet = future_prophet.to_numpy()"
   ]
  },
  {
   "cell_type": "code",
   "execution_count": 139,
   "id": "a664dbd2",
   "metadata": {},
   "outputs": [],
   "source": [
    "future_prophet = future_prophet[:,-1].reshape(-1,1)"
   ]
  },
  {
   "cell_type": "code",
   "execution_count": 142,
   "id": "72fda656",
   "metadata": {},
   "outputs": [],
   "source": [
    "mix = np.concatenate((future_RNN,future_arima),axis=1)"
   ]
  },
  {
   "cell_type": "code",
   "execution_count": 143,
   "id": "a710b837",
   "metadata": {},
   "outputs": [],
   "source": [
    "mix = np.concatenate((mix,future_prophet),axis=1)"
   ]
  },
  {
   "cell_type": "markdown",
   "id": "fbd67dad",
   "metadata": {},
   "source": [
    "# present + mix"
   ]
  },
  {
   "cell_type": "code",
   "execution_count": 161,
   "id": "b4e2ddd8",
   "metadata": {},
   "outputs": [],
   "source": [
    "present = present_data.to_numpy()"
   ]
  },
  {
   "cell_type": "code",
   "execution_count": 162,
   "id": "dc19802c",
   "metadata": {},
   "outputs": [],
   "source": [
    "present = present[-50:,-1].reshape(-1,1)"
   ]
  },
  {
   "cell_type": "code",
   "execution_count": 164,
   "id": "5d385f21",
   "metadata": {},
   "outputs": [],
   "source": [
    "present1 = np.concatenate((present,present),axis=1)"
   ]
  },
  {
   "cell_type": "code",
   "execution_count": 165,
   "id": "bc4459e8",
   "metadata": {},
   "outputs": [],
   "source": [
    "present2 = np.concatenate((present1,present),axis=1)"
   ]
  },
  {
   "cell_type": "code",
   "execution_count": 169,
   "id": "63e83b8f",
   "metadata": {},
   "outputs": [],
   "source": [
    "total_future_data = np.concatenate((present2,mix),axis=0)"
   ]
  },
  {
   "cell_type": "code",
   "execution_count": 172,
   "id": "675275d8",
   "metadata": {},
   "outputs": [],
   "source": [
    "pred_data_frame = pd.DataFrame(total_future_data,columns=['RNN','ARIMA','PROPHET'])"
   ]
  },
  {
   "cell_type": "code",
   "execution_count": 174,
   "id": "046ba69a",
   "metadata": {},
   "outputs": [],
   "source": [
    "pred_data_frame['date'] = time_series_frame"
   ]
  },
  {
   "cell_type": "code",
   "execution_count": 178,
   "id": "0c918869",
   "metadata": {},
   "outputs": [],
   "source": [
    "pred_data_frame.set_index('date',inplace=True)"
   ]
  },
  {
   "cell_type": "code",
   "execution_count": 181,
   "id": "608a4b7a",
   "metadata": {},
   "outputs": [],
   "source": [
    "present_data = pred_data_frame.iloc[0:50,:]"
   ]
  },
  {
   "cell_type": "code",
   "execution_count": 196,
   "id": "c3dc5e5c",
   "metadata": {
    "scrolled": false
   },
   "outputs": [
    {
     "data": {
      "text/plain": [
       "<AxesSubplot:xlabel='date'>"
      ]
     },
     "execution_count": 196,
     "metadata": {},
     "output_type": "execute_result"
    },
    {
     "data": {
      "image/png": "[encoded data removed]",
      "text/plain": [
       "<Figure size 1152x720 with 1 Axes>"
      ]
     },
     "metadata": {
      "needs_background": "light"
     },
     "output_type": "display_data"
    }
   ],
   "source": [
    "ax = present_data.plot(figsize=(16,10),legend=False)\n",
    "pred_data_frame.plot(ax=ax)"
   ]
  },
  {
   "cell_type": "code",
   "execution_count": null,
   "id": "765c5b21",
   "metadata": {},
   "outputs": [],
   "source": [
    "pred_data_frame"
   ]
  }
 ],
 "metadata": {
  "kernelspec": {
   "display_name": "Python 3",
   "language": "python",
   "name": "python3"
  },
  "language_info": {
   "codemirror_mode": {
    "name": "ipython",
    "version": 3
   },
   "file_extension": ".py",
   "mimetype": "text/x-python",
   "name": "python",
   "nbconvert_exporter": "python",
   "pygments_lexer": "ipython3",
   "version": "3.8.8"
  }
 },
 "nbformat": 4,
 "nbformat_minor": 5
}
